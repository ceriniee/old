{
 "cells": [
  {
   "cell_type": "code",
   "execution_count": 1,
   "id": "d9346dc3",
   "metadata": {},
   "outputs": [],
   "source": [
    "import os\n",
    "import selenium\n",
    "import pandas as pd\n",
    "from selenium import webdriver\n",
    "import time\n",
    "from PIL import Image\n",
    "import io\n",
    "import requests\n",
    "from webdriver_manager.chrome import ChromeDriverManager\n",
    "from selenium.common.exceptions import ElementClickInterceptedException\n",
    "from selenium.webdriver.common.keys import Keys\n",
    "from selenium.webdriver.common.by import By\n",
    "from selenium.webdriver.support import expected_conditions as EC\n",
    "from selenium.webdriver.support.ui import WebDriverWait as wait"
   ]
  },
  {
   "cell_type": "code",
   "execution_count": 5,
   "id": "44fc57d0",
   "metadata": {},
   "outputs": [
    {
     "name": "stderr",
     "output_type": "stream",
     "text": [
      "\n",
      "\n",
      "====== WebDriver manager ======\n",
      "Current google-chrome version is 102.0.5005\n",
      "Get LATEST chromedriver version for 102.0.5005 google-chrome\n",
      "Driver [/Users/celine/.wdm/drivers/chromedriver/mac64/102.0.5005.61/chromedriver] found in cache\n",
      "<ipython-input-5-b04d0414585c>:2: DeprecationWarning: executable_path has been deprecated, please pass in a Service object\n",
      "  driver = webdriver.Chrome(ChromeDriverManager().install())\n"
     ]
    },
    {
     "name": "stdout",
     "output_type": "stream",
     "text": [
      "Input the name of drug: Lilly 99638\n"
     ]
    },
    {
     "name": "stderr",
     "output_type": "stream",
     "text": [
      "<ipython-input-5-b04d0414585c>:9: DeprecationWarning: find_element_by_tag_name is deprecated. Please use find_element(by=By.TAG_NAME, value=name) instead\n",
      "  search = driver.find_element_by_tag_name(\"input\")\n",
      "<ipython-input-5-b04d0414585c>:15: DeprecationWarning: find_element_by_class_name is deprecated. Please use find_element(by=By.CLASS_NAME, value=name) instead\n",
      "  element = driver.find_element_by_class_name(\"breakword\")\n",
      "<ipython-input-5-b04d0414585c>:19: DeprecationWarning: find_element_by_xpath is deprecated. Please use find_element(by=By.XPATH, value=xpath) instead\n",
      "  cid = driver.find_element_by_xpath(\"//div[@class='border b-active b-thick b-radius p-sm']/table/tbody/tr[1]/td\")\n",
      "<ipython-input-5-b04d0414585c>:26: DeprecationWarning: find_element_by_xpath is deprecated. Please use find_element(by=By.XPATH, value=xpath) instead\n",
      "  searchbar = driver.find_element_by_xpath(\"//div[@class='flex-grow-1 p-xsm-left p-xsm-top p-xsm-bottom b-right b-light']/input\")\n"
     ]
    },
    {
     "name": "stdout",
     "output_type": "stream",
     "text": [
      "Input the name of drug: Ondansetron\n"
     ]
    },
    {
     "name": "stderr",
     "output_type": "stream",
     "text": [
      "<ipython-input-5-b04d0414585c>:31: DeprecationWarning: find_element_by_tag_name is deprecated. Please use find_element(by=By.TAG_NAME, value=name) instead\n",
      "  search = driver.find_element_by_tag_name(\"input\")\n",
      "<ipython-input-5-b04d0414585c>:36: DeprecationWarning: find_element_by_class_name is deprecated. Please use find_element(by=By.CLASS_NAME, value=name) instead\n",
      "  element = driver.find_element_by_class_name(\"breakword\")\n"
     ]
    },
    {
     "name": "stdout",
     "output_type": "stream",
     "text": [
      "2609\n",
      "4595\n"
     ]
    },
    {
     "name": "stderr",
     "output_type": "stream",
     "text": [
      "<ipython-input-5-b04d0414585c>:40: DeprecationWarning: find_element_by_xpath is deprecated. Please use find_element(by=By.XPATH, value=xpath) instead\n",
      "  cid = driver.find_element_by_xpath(\"//div[@class='border b-active b-thick b-radius p-sm']/table/tbody/tr[1]/td\")\n"
     ]
    },
    {
     "data": {
      "text/plain": [
       "'\\ntest = driver.find_elements_by_xpath(\"//div[contains(text(),\\'PubChem CID\\')]\")\\n\\nprint(test)\\n\\ncid = driver.find_element_by_xpath(\"//div[@class=\\'p-xsm-top p-xsm-bottom inline-block\\']/span/a\")\\ndrug1 = cid.get_attribute(\\'innerText\\')\\ndrug1 = int(drug1)\\n\\nsearch.send_keys(Keys.COMMAND + \"a\")\\nsearch.send_keys(Keys.DELETE)\\n\\ndrugs.append(input(\"Input the name of drug: \"))\\nsearch.send_keys(drugs[1])\\nsearch.send_keys(Keys.ENTER)\\ndriver.implicitly_wait(10)\\ncid = driver.find_element_by_xpath(\"//div[@class=\\'p-xsm-top p-xsm-bottom inline-block\\']/span/a\")\\ndrug2 = cid.get_attribute(\\'innerText\\')\\ndrug2 = int(drug2)\\n\\n#//div[@class=\\'summary p-md-top p-md-bottom\\'/div/table/tbody/tr[1]/td\\n'"
      ]
     },
     "execution_count": 5,
     "metadata": {},
     "output_type": "execute_result"
    }
   ],
   "source": [
    "#Install Driver\n",
    "driver = webdriver.Chrome(ChromeDriverManager().install())\n",
    "\n",
    "drugs = []\n",
    "drugs.append(input(\"Input the name of drug: \"))\n",
    "    \n",
    "search_url = \"https://pubchem.ncbi.nlm.nih.gov/\"\n",
    "driver.get(search_url)\n",
    "search = driver.find_element_by_tag_name(\"input\")\n",
    "\n",
    "search.send_keys(drugs[0])\n",
    "search.send_keys(Keys.ENTER)\n",
    "driver.implicitly_wait(10)\n",
    "\n",
    "element = driver.find_element_by_class_name(\"breakword\")\n",
    "element.click()\n",
    "wait(driver, 20).until(EC.presence_of_element_located((By.XPATH, \"//div[@class='summary p-md-top p-md-bottom']/div/table/tbody/tr[1]/td\")))\n",
    "\n",
    "cid = driver.find_element_by_xpath(\"//div[@class='border b-active b-thick b-radius p-sm']/table/tbody/tr[1]/td\")\n",
    "\n",
    "drug1 = cid.get_attribute('innerText')\n",
    "drug1 = int(drug1)\n",
    "\n",
    "driver.execute_script(\"window.history.go(-1)\")\n",
    "\n",
    "searchbar = driver.find_element_by_xpath(\"//div[@class='flex-grow-1 p-xsm-left p-xsm-top p-xsm-bottom b-right b-light']/input\")\n",
    "searchbar.send_keys(Keys.COMMAND + \"a\")\n",
    "searchbar.send_keys(Keys.DELETE)\n",
    "\n",
    "drugs.append(input(\"Input the name of drug: \"))\n",
    "search = driver.find_element_by_tag_name(\"input\")\n",
    "search.send_keys(drugs[1])\n",
    "search.send_keys(Keys.ENTER)\n",
    "driver.implicitly_wait(10)\n",
    "\n",
    "element = driver.find_element_by_class_name(\"breakword\")\n",
    "element.click()\n",
    "wait(driver, 20).until(EC.visibility_of_element_located((By.XPATH, \"//div[@class='summary p-md-top p-md-bottom']/div/table/tbody/tr[1]/td\")))\n",
    "\n",
    "cid = driver.find_element_by_xpath(\"//div[@class='border b-active b-thick b-radius p-sm']/table/tbody/tr[1]/td\")\n",
    "drug2 = cid.get_attribute('innerText')\n",
    "drug2 = int(drug2)\n",
    "\n",
    "print(drug1)\n",
    "print(drug2)\n",
    "\n",
    "\"\"\"\n",
    "test = driver.find_elements_by_xpath(\"//div[contains(text(),'PubChem CID')]\")\n",
    "\n",
    "print(test)\n",
    "\n",
    "cid = driver.find_element_by_xpath(\"//div[@class='p-xsm-top p-xsm-bottom inline-block']/span/a\")\n",
    "drug1 = cid.get_attribute('innerText')\n",
    "drug1 = int(drug1)\n",
    "\n",
    "search.send_keys(Keys.COMMAND + \"a\")\n",
    "search.send_keys(Keys.DELETE)\n",
    "\n",
    "drugs.append(input(\"Input the name of drug: \"))\n",
    "search.send_keys(drugs[1])\n",
    "search.send_keys(Keys.ENTER)\n",
    "driver.implicitly_wait(10)\n",
    "cid = driver.find_element_by_xpath(\"//div[@class='p-xsm-top p-xsm-bottom inline-block']/span/a\")\n",
    "drug2 = cid.get_attribute('innerText')\n",
    "drug2 = int(drug2)\n",
    "\n",
    "#//div[@class='summary p-md-top p-md-bottom'/div/table/tbody/tr[1]/td\n",
    "\"\"\"\n",
    "\n",
    "#search.send_keys(Keys.CONTROL,\"a\", Keys.DELETE)\n",
    "#wait(driver, 10).until(EC.element_to_be_clickable(By.XPATH, \"//div[@class='p-xsm-top p-xsm-bottom inline-block']\"))"
   ]
  },
  {
   "cell_type": "code",
   "execution_count": null,
   "id": "80978814",
   "metadata": {},
   "outputs": [],
   "source": [
    "#나중에는 드라이브로 파일 주소를 바꿔야함\n",
    "\n",
    "table=pd.read_csv(\"bio-decagon-combo.csv\")\n",
    "Series = table['STITCH 1'].astype(str)\n",
    "table['STITCH 1'] = Series.str.extract(r'(\\d+)', expand=False)\n",
    "table['STITCH 1'] = table['STITCH 1'].astype(str).astype(int)\n",
    "print(table[\"STITCH 1\"])\n",
    "\n",
    "Series2 = table['STITCH 2'].astype(str)\n",
    "table['STITCH 2'] = Series2.str.extract(r'(\\d+)', expand=False)\n",
    "table['STITCH 2'] = table['STITCH 2'].astype(str).astype(int)\n",
    "print(type(table[\"STITCH 2\"]))"
   ]
  },
  {
   "cell_type": "code",
   "execution_count": null,
   "id": "9f0afd8a",
   "metadata": {},
   "outputs": [],
   "source": [
    "col1 = table[\"STITCH 1\"]\n",
    "col2 = table[\"STITCH 2\"]\n",
    "for n in range (3,4649440):\n",
    "    if col1[n] == drug1 and col2[n] == drug2:\n",
    "        print(table[\"Side Effect Name\"][n])\n",
    "    elif col1[n] == drug2 and col2[n] == drug1:\n",
    "        print(table[\"Side Effect Name\"][n])"
   ]
  },
  {
   "cell_type": "code",
   "execution_count": null,
   "id": "0cc0415e",
   "metadata": {},
   "outputs": [],
   "source": []
  }
 ],
 "metadata": {
  "kernelspec": {
   "display_name": "Python 3",
   "language": "python",
   "name": "python3"
  },
  "language_info": {
   "codemirror_mode": {
    "name": "ipython",
    "version": 3
   },
   "file_extension": ".py",
   "mimetype": "text/x-python",
   "name": "python",
   "nbconvert_exporter": "python",
   "pygments_lexer": "ipython3",
   "version": "3.8.8"
  }
 },
 "nbformat": 4,
 "nbformat_minor": 5
}
